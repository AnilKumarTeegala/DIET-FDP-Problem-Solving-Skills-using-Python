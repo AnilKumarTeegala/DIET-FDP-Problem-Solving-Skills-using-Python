{
 "cells": [
  {
   "cell_type": "markdown",
   "metadata": {},
   "source": [
    "#### find the name of student who got highest marks"
   ]
  },
  {
   "cell_type": "code",
   "execution_count": 4,
   "metadata": {
    "scrolled": true
   },
   "outputs": [
    {
     "name": "stdout",
     "output_type": "stream",
     "text": [
      "Highest marks: 90\n",
      "ram\n",
      "raju\n"
     ]
    }
   ],
   "source": [
    "students = {'sai':[10,30,20], 'ram':[30,50,10] , \n",
    "            'lakshmi':[1,2,3], 'raju':[30,50,10]}\n",
    "highest = 0\n",
    "for name in students:\n",
    "    marks = students[name]\n",
    "    total = sum(marks)\n",
    "    if total > highest:\n",
    "        highest = total\n",
    "print('Highest marks:',highest)\n",
    "\n",
    "for name in students:\n",
    "    marks = students[name]\n",
    "    total = sum(marks)\n",
    "    if total == highest:\n",
    "        print(name)"
   ]
  },
  {
   "cell_type": "markdown",
   "metadata": {},
   "source": [
    "##### Alternate solution"
   ]
  },
  {
   "cell_type": "code",
   "execution_count": 10,
   "metadata": {
    "scrolled": true
   },
   "outputs": [
    {
     "name": "stdout",
     "output_type": "stream",
     "text": [
      "[('ram', [30, 50, 10]), ('raju', [30, 50, 10])]\n"
     ]
    }
   ],
   "source": [
    "students = {'sai':[10,30,20], 'ram':[30,50,10] , \n",
    "            'lakshmi':[1,2,3], 'raju':[30,50,10]}\n",
    "\n",
    "students_list = list(students.items())\n",
    "students_list.sort(\n",
    "    key = lambda x:sum(x[1]),\n",
    "    reverse = True\n",
    ")\n",
    "\n",
    "highest = sum(students_list[0][1])\n",
    "\n",
    "print(\n",
    "    list(\n",
    "        filter(\n",
    "            lambda x:sum(x[1]) == highest,\n",
    "            students_list\n",
    "        )\n",
    "    )\n",
    ")"
   ]
  },
  {
   "cell_type": "code",
   "execution_count": null,
   "metadata": {},
   "outputs": [],
   "source": []
  },
  {
   "cell_type": "code",
   "execution_count": 16,
   "metadata": {
    "scrolled": false
   },
   "outputs": [
    {
     "name": "stdout",
     "output_type": "stream",
     "text": [
      "[('sai', [10, 30, 20]), ('ram', [30, 50, 10]), ('lakshmi', [1, 2, 3]), ('raju', [30, 50, 10])]\n",
      "[('ram', [30, 50, 10]), ('raju', [30, 50, 10]), ('sai', [10, 30, 20]), ('lakshmi', [1, 2, 3])]\n",
      "90\n",
      "[('ram', [30, 50, 10]), ('raju', [30, 50, 10])]\n"
     ]
    }
   ],
   "source": [
    "students = {'sai':[10,30,20], 'ram':[30,50,10] , \n",
    "            'lakshmi':[1,2,3], 'raju':[30,50,10]}\n",
    "\n",
    "students_list = list(students.items())\n",
    "print(students_list)\n",
    "students_list.sort(key = lambda x:sum(x[1]),reverse = True)\n",
    "print(students_list)\n",
    "highest = sum(students_list[0][1])\n",
    "print(highest)\n",
    "print(list(filter(lambda x: sum(x[1]) == highest,students_list)))"
   ]
  },
  {
   "cell_type": "markdown",
   "metadata": {},
   "source": [
    "## List Comprehension\n",
    "\n",
    "### Syntax\n",
    "\n",
    "[item for item in range(times) condition]"
   ]
  },
  {
   "cell_type": "code",
   "execution_count": 17,
   "metadata": {},
   "outputs": [
    {
     "name": "stdout",
     "output_type": "stream",
     "text": [
      "[1, 1, 1, 1, 1]\n"
     ]
    }
   ],
   "source": [
    "numbers = [1 for each in range(5)]\n",
    "print(numbers)"
   ]
  },
  {
   "cell_type": "code",
   "execution_count": 18,
   "metadata": {},
   "outputs": [
    {
     "name": "stdout",
     "output_type": "stream",
     "text": [
      "[1, 2, 3, 4, 5, 6, 7, 8, 9, 10]\n"
     ]
    }
   ],
   "source": [
    "numbers = [each for each in range(1,11)]\n",
    "print(numbers)"
   ]
  },
  {
   "cell_type": "code",
   "execution_count": 19,
   "metadata": {},
   "outputs": [
    {
     "name": "stdout",
     "output_type": "stream",
     "text": [
      "[2, 4, 6, 8, 10]\n"
     ]
    }
   ],
   "source": [
    "numbers = [each for each in range(1,11) if each % 2 == 0]\n",
    "print(numbers)"
   ]
  },
  {
   "cell_type": "markdown",
   "metadata": {},
   "source": [
    "##### find the characters in name except spaces"
   ]
  },
  {
   "cell_type": "code",
   "execution_count": 21,
   "metadata": {
    "collapsed": true
   },
   "outputs": [
    {
     "name": "stdout",
     "output_type": "stream",
     "text": [
      "18\n",
      "['p', 'y', 't', 'h', 'o', 'n', 'p', 'r', 'o', 'g', 'r', 'a', 'm', 'm', 'i', 'n', 'g']\n",
      "17\n"
     ]
    }
   ],
   "source": [
    "name = 'python programming'\n",
    "print(len(name))\n",
    "output = [i for i in name if i != ' ']\n",
    "print(output)\n",
    "print(len(output))"
   ]
  },
  {
   "cell_type": "markdown",
   "metadata": {},
   "source": [
    "extract only "
   ]
  },
  {
   "cell_type": "code",
   "execution_count": 25,
   "metadata": {
    "collapsed": true
   },
   "outputs": [
    {
     "name": "stdout",
     "output_type": "stream",
     "text": [
      "18\n",
      "['y', 't', 'h', 'n', ' ', 'r', 'g', 'r', 'a', 'm', 'm', 'i', 'n', 'g']\n",
      "14\n"
     ]
    }
   ],
   "source": [
    "name = 'python programming'\n",
    "print(len(name))\n",
    "output = [i for i in name if i == 'p' or i == 'o']\n",
    "# or \n",
    "output = [i for i in name if i not in ['p','o']* ]\n",
    "\n",
    "print(output)\n",
    "print(len(output))"
   ]
  },
  {
   "cell_type": "markdown",
   "metadata": {},
   "source": [
    "##### find sum of digits in roll number"
   ]
  },
  {
   "cell_type": "code",
   "execution_count": 28,
   "metadata": {
    "scrolled": true
   },
   "outputs": [
    {
     "name": "stdout",
     "output_type": "stream",
     "text": [
      "8\n"
     ]
    }
   ],
   "source": [
    "number = '11cse123'\n",
    "result = [int(item) for item in number if item.isdigit()]\n",
    "print(sum(result))"
   ]
  },
  {
   "cell_type": "markdown",
   "metadata": {},
   "source": [
    "### Dictionary Comprehension\n",
    "\n",
    "#### Syntax\n",
    "\n",
    "\n",
    "{key:value for key in range(5) condition}"
   ]
  },
  {
   "cell_type": "code",
   "execution_count": 29,
   "metadata": {},
   "outputs": [
    {
     "name": "stdout",
     "output_type": "stream",
     "text": [
      "{0: 0, 1: 1, 2: 4, 3: 9, 4: 16}\n"
     ]
    }
   ],
   "source": [
    "#### squares of the numbers\n",
    "\n",
    "square = {key : key ** 2 for key in range(5)}\n",
    "print(square)"
   ]
  },
  {
   "cell_type": "markdown",
   "metadata": {},
   "source": [
    "#### find frequency of words in given words list"
   ]
  },
  {
   "cell_type": "code",
   "execution_count": 30,
   "metadata": {},
   "outputs": [],
   "source": [
    "words = ['apple','orange','banana','apple','apple','orange']\n"
   ]
  },
  {
   "cell_type": "code",
   "execution_count": 31,
   "metadata": {},
   "outputs": [
    {
     "name": "stdout",
     "output_type": "stream",
     "text": [
      "{'apple': 3, 'orange': 2, 'banana': 1}\n"
     ]
    }
   ],
   "source": [
    "freq = {word:words.count(word) for word in words }\n",
    "print(freq)"
   ]
  },
  {
   "cell_type": "markdown",
   "metadata": {},
   "source": [
    "#### create freq dictionary of starting character in words"
   ]
  },
  {
   "cell_type": "code",
   "execution_count": 36,
   "metadata": {},
   "outputs": [
    {
     "name": "stdout",
     "output_type": "stream",
     "text": [
      "{'a': 3, 'o': 2, 'b': 2}\n"
     ]
    }
   ],
   "source": [
    "words = ['apple1','orange1','banana','apple2',\n",
    "         'apple3','orange2','brinjal']\n",
    "\n",
    "myList = list(map(lambda x:x[0] , words))\n",
    "freq = {key:myList.count(key) for key in myList }\n",
    "\n",
    "print(freq)"
   ]
  },
  {
   "cell_type": "code",
   "execution_count": null,
   "metadata": {},
   "outputs": [],
   "source": []
  },
  {
   "cell_type": "markdown",
   "metadata": {},
   "source": [
    "### Set Comprehension\n",
    "#### Syntax\n",
    "\n",
    "{ item for item in range(items) }"
   ]
  },
  {
   "cell_type": "code",
   "execution_count": 39,
   "metadata": {
    "collapsed": true
   },
   "outputs": [
    {
     "name": "stdout",
     "output_type": "stream",
     "text": [
      "{'r', 'i', 'm', 'a', 's'}\n"
     ]
    }
   ],
   "source": [
    "name = 'sairam'\n",
    "\n",
    "unique = {item for item in name}\n",
    "\n",
    "print(unique)"
   ]
  },
  {
   "cell_type": "code",
   "execution_count": 41,
   "metadata": {
    "collapsed": true
   },
   "outputs": [
    {
     "name": "stdout",
     "output_type": "stream",
     "text": [
      "{'banana', 'orange', 'apple'}\n",
      "3\n"
     ]
    }
   ],
   "source": [
    "words = ['apple','banana','apple','orange']\n",
    "unique = {item for item in words}\n",
    "print(unique)\n",
    "print(len(unique))"
   ]
  },
  {
   "cell_type": "markdown",
   "metadata": {},
   "source": [
    "#### [ (1,1,1),(2,4,8),(3,9,27) . . .  ]"
   ]
  },
  {
   "cell_type": "code",
   "execution_count": 42,
   "metadata": {},
   "outputs": [
    {
     "name": "stdout",
     "output_type": "stream",
     "text": [
      "[(1, 1, 1), (2, 4, 8), (3, 9, 27), (4, 16, 64), (5, 25, 125)]\n"
     ]
    }
   ],
   "source": [
    "result = [(num,num ** 2,num ** 3) for num in range(1,6)]\n",
    "print(result)"
   ]
  },
  {
   "cell_type": "markdown",
   "metadata": {},
   "source": [
    "#### [ (1),(1,2),(1,2,3),(1,2,3,4) ]"
   ]
  },
  {
   "cell_type": "code",
   "execution_count": 44,
   "metadata": {},
   "outputs": [
    {
     "name": "stdout",
     "output_type": "stream",
     "text": [
      "[(1,), (1, 2), (1, 2, 3), (1, 2, 3, 4), (1, 2, 3, 4, 5)]\n"
     ]
    }
   ],
   "source": [
    "result = [ tuple(range(1,num+1)) for num in range(1,6)]\n",
    "print(result)"
   ]
  },
  {
   "cell_type": "code",
   "execution_count": null,
   "metadata": {},
   "outputs": [],
   "source": []
  },
  {
   "cell_type": "markdown",
   "metadata": {},
   "source": [
    "## Files\n",
    "\n",
    "\n",
    "1. Open the required file\n",
    "2. do the required operation\n",
    "- close the opened file"
   ]
  },
  {
   "cell_type": "markdown",
   "metadata": {},
   "source": [
    "### Reading the file \n",
    "\n",
    "#### book.txt"
   ]
  },
  {
   "cell_type": "code",
   "execution_count": 49,
   "metadata": {},
   "outputs": [
    {
     "name": "stdout",
     "output_type": "stream",
     "text": [
      "line1\n",
      "line2\n",
      "line3\n",
      "line4\n"
     ]
    }
   ],
   "source": [
    "fh = open('book.txt','r')\n",
    "\n",
    "data = fh.read()\n",
    "print(data)\n",
    "\n",
    "fh.close()"
   ]
  },
  {
   "cell_type": "markdown",
   "metadata": {},
   "source": [
    "#### 2. writing data into book.txt"
   ]
  },
  {
   "cell_type": "code",
   "execution_count": 51,
   "metadata": {},
   "outputs": [],
   "source": [
    "fh = open('notes.txt','w')\n",
    "\n",
    "content = 'Hello World!'\n",
    "fh.write(content)\n",
    "\n",
    "fh.close()"
   ]
  },
  {
   "cell_type": "markdown",
   "metadata": {},
   "source": [
    "#### read the content from students.txt and write into report.txt"
   ]
  },
  {
   "cell_type": "code",
   "execution_count": 53,
   "metadata": {},
   "outputs": [],
   "source": [
    "fh_i = open('students.txt','r')\n",
    "fh_o = open('report.txt','w')\n",
    "\n",
    "data = fh_i.read()\n",
    "fh_o.write(data)\n",
    "\n",
    "fh_i.close()\n",
    "fh_o.close()"
   ]
  },
  {
   "cell_type": "markdown",
   "metadata": {},
   "source": [
    "#### appending data into book.txt"
   ]
  },
  {
   "cell_type": "code",
   "execution_count": 55,
   "metadata": {},
   "outputs": [
    {
     "name": "stdout",
     "output_type": "stream",
     "text": [
      "old_data:  Hello World!Hii\n",
      "enter datahow are you?\n"
     ]
    }
   ],
   "source": [
    "fh = open('book.txt','r')\n",
    "print('old_data: ',fh.read())\n",
    "fh.close()\n",
    "\n",
    "fh = open('book.txt','a')\n",
    "\n",
    "data = input(\"enter data\")\n",
    "fh.write(data)\n",
    "\n",
    "fh.close()\n"
   ]
  },
  {
   "cell_type": "markdown",
   "metadata": {},
   "source": [
    "######  file object we can use for loop also"
   ]
  },
  {
   "cell_type": "code",
   "execution_count": 56,
   "metadata": {},
   "outputs": [
    {
     "name": "stdout",
     "output_type": "stream",
     "text": [
      "name      python    c    java\n",
      "\n",
      "ayyappa     90     70     60\n",
      "\n",
      "lakshmi     70     60     30\n",
      "\n",
      "ram         90     90     80\n"
     ]
    }
   ],
   "source": [
    "fh = open('students.txt','r')\n",
    "for Line in fh:\n",
    "    print(Line)\n",
    "fh.close()"
   ]
  },
  {
   "cell_type": "markdown",
   "metadata": {},
   "source": [
    "#### find the number of lines in the file students.txt"
   ]
  },
  {
   "cell_type": "code",
   "execution_count": 57,
   "metadata": {},
   "outputs": [
    {
     "name": "stdout",
     "output_type": "stream",
     "text": [
      "4\n"
     ]
    }
   ],
   "source": [
    "fh = open('students.txt','r')\n",
    "count = 0\n",
    "for Line in fh:\n",
    "    count += 1\n",
    "print(count)\n",
    "fh.close()"
   ]
  },
  {
   "cell_type": "code",
   "execution_count": null,
   "metadata": {},
   "outputs": [],
   "source": []
  },
  {
   "cell_type": "markdown",
   "metadata": {},
   "source": [
    "#### display line number and content in the line\n",
    "    ex: 1 name      python    c    java"
   ]
  },
  {
   "cell_type": "code",
   "execution_count": 58,
   "metadata": {},
   "outputs": [
    {
     "name": "stdout",
     "output_type": "stream",
     "text": [
      "1 name      python    c    java\n",
      "\n",
      "2 ayyappa     90     70     60\n",
      "\n",
      "3 lakshmi     70     60     30\n",
      "\n",
      "4 ram         90     90     80\n"
     ]
    }
   ],
   "source": [
    "fh = open('students.txt','r')\n",
    "count = 0\n",
    "for Line in fh:\n",
    "    count += 1\n",
    "    print(count,Line)\n",
    "fh.close()"
   ]
  },
  {
   "cell_type": "markdown",
   "metadata": {},
   "source": [
    "#### Display only names column in students.txt"
   ]
  },
  {
   "cell_type": "markdown",
   "metadata": {},
   "source": [
    "name\n",
    "\n",
    "ayyappa\n",
    "\n",
    "lakshmi\n",
    "\n",
    "ram"
   ]
  },
  {
   "cell_type": "code",
   "execution_count": 63,
   "metadata": {},
   "outputs": [
    {
     "name": "stdout",
     "output_type": "stream",
     "text": [
      "name\n",
      "ayyappa\n",
      "lakshmi\n",
      "ram\n"
     ]
    }
   ],
   "source": [
    "fh = open('students.txt','r')\n",
    "for Line in fh:\n",
    "    words = Line.split()\n",
    "    name = words[0]\n",
    "    \n",
    "    print(name)\n",
    "fh.close()"
   ]
  },
  {
   "cell_type": "code",
   "execution_count": 64,
   "metadata": {},
   "outputs": [
    {
     "name": "stdout",
     "output_type": "stream",
     "text": [
      "['python', 'c', 'java']\n",
      "['90', '70', '60']\n",
      "['70', '60', '30']\n",
      "['90', '90', '80']\n"
     ]
    }
   ],
   "source": [
    "fh = open('students.txt','r')\n",
    "for Line in fh:\n",
    "    words = Line.split()\n",
    "    name = words[0]\n",
    "    marks = words[1:]\n",
    "    print(marks)\n",
    "fh.close()"
   ]
  },
  {
   "cell_type": "code",
   "execution_count": 65,
   "metadata": {},
   "outputs": [
    {
     "name": "stdout",
     "output_type": "stream",
     "text": [
      "['90', '70', '60']\n",
      "['70', '60', '30']\n",
      "['90', '90', '80']\n"
     ]
    }
   ],
   "source": [
    "fh = open('students.txt','r')\n",
    "count = 0\n",
    "for Line in fh:\n",
    "    count += 1\n",
    "    if count != 1:\n",
    "        words = Line.split()\n",
    "        name = words[0]\n",
    "        marks = words[1:]\n",
    "        print(marks)\n",
    "fh.close()"
   ]
  },
  {
   "cell_type": "code",
   "execution_count": 67,
   "metadata": {},
   "outputs": [
    {
     "name": "stdout",
     "output_type": "stream",
     "text": [
      "220\n",
      "160\n",
      "260\n"
     ]
    }
   ],
   "source": [
    "fh = open('students.txt','r')\n",
    "count = 0\n",
    "for Line in fh:\n",
    "    count += 1\n",
    "    if count != 1:\n",
    "        words = Line.split()\n",
    "        name = words[0]\n",
    "        marks = words[1:]\n",
    "        total = sum(list(map(int,marks)))\n",
    "        print(total)\n",
    "fh.close()"
   ]
  },
  {
   "cell_type": "code",
   "execution_count": 79,
   "metadata": {},
   "outputs": [
    {
     "name": "stdout",
     "output_type": "stream",
     "text": [
      "220\n",
      "160\n",
      "260\n"
     ]
    }
   ],
   "source": [
    "fh = open('students.txt','r')\n",
    "fh_o = open('report.txt','w')\n",
    "count = 0\n",
    "for Line in fh:\n",
    "    count += 1\n",
    "    Line = Line.rstrip()\n",
    "    if count == 1:\n",
    "        fh_o.write(Line+'  Total\\n')\n",
    "    if count != 1:\n",
    "        words = Line.split()\n",
    "        name = words[0]\n",
    "        marks = words[1:]\n",
    "        total = sum(list(map(int,marks)))\n",
    "        fh_o.write(Line+'    '+str(total)+'\\n')\n",
    "\n",
    "fh.close()\n",
    "fh_o.close()"
   ]
  },
  {
   "cell_type": "code",
   "execution_count": null,
   "metadata": {},
   "outputs": [],
   "source": []
  },
  {
   "cell_type": "code",
   "execution_count": 80,
   "metadata": {},
   "outputs": [
    {
     "name": "stdout",
     "output_type": "stream",
     "text": [
      "\n"
     ]
    }
   ],
   "source": [
    "fh = open('students.txt')\n",
    "data = fh.read() # after read it reaches end of file \n",
    "data = fh.read() # there is no content after end of file\n",
    "print(data)\n",
    "fh.close()"
   ]
  },
  {
   "cell_type": "markdown",
   "metadata": {},
   "source": [
    "##### generate report descending order of total marks\n",
    "    Note:\n",
    "        Not mandatory task"
   ]
  },
  {
   "cell_type": "code",
   "execution_count": null,
   "metadata": {},
   "outputs": [],
   "source": []
  },
  {
   "cell_type": "code",
   "execution_count": null,
   "metadata": {},
   "outputs": [],
   "source": []
  },
  {
   "cell_type": "code",
   "execution_count": null,
   "metadata": {},
   "outputs": [],
   "source": []
  },
  {
   "cell_type": "code",
   "execution_count": null,
   "metadata": {},
   "outputs": [],
   "source": []
  },
  {
   "cell_type": "code",
   "execution_count": null,
   "metadata": {},
   "outputs": [],
   "source": []
  },
  {
   "cell_type": "code",
   "execution_count": null,
   "metadata": {},
   "outputs": [],
   "source": []
  },
  {
   "cell_type": "code",
   "execution_count": null,
   "metadata": {},
   "outputs": [],
   "source": []
  },
  {
   "cell_type": "code",
   "execution_count": null,
   "metadata": {},
   "outputs": [],
   "source": []
  }
 ],
 "metadata": {
  "kernelspec": {
   "display_name": "Python 3",
   "language": "python",
   "name": "python3"
  },
  "language_info": {
   "codemirror_mode": {
    "name": "ipython",
    "version": 3
   },
   "file_extension": ".py",
   "mimetype": "text/x-python",
   "name": "python",
   "nbconvert_exporter": "python",
   "pygments_lexer": "ipython3",
   "version": "3.7.3"
  }
 },
 "nbformat": 4,
 "nbformat_minor": 2
}
